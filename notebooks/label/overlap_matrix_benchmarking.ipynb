{
 "cells": [
  {
   "cell_type": "markdown",
   "id": "fac103fe",
   "metadata": {},
   "source": [
    "# Comparing label_overlap_matrix with confusion_matrix\n",
    "We're searching for an efficient way to compute overlap between label images. Thus, for testing we create two label images and compute these overlap-matrices. With increasing image size, different methods perform quite differently."
   ]
  },
  {
   "cell_type": "code",
   "execution_count": 2,
   "id": "a8758b4e",
   "metadata": {},
   "outputs": [],
   "source": [
    "from sklearn.metrics import confusion_matrix\n",
    "from biapol_utilities import label_overlap_matrix, labels_colormap\n",
    "import numpy as np\n",
    "from skimage.io import imshow\n",
    "import timeit"
   ]
  },
  {
   "cell_type": "code",
   "execution_count": 3,
   "id": "cb45fc6b",
   "metadata": {},
   "outputs": [
    {
     "name": "stderr",
     "output_type": "stream",
     "text": [
      "C:\\Users\\johan\\anaconda3\\envs\\biapol_utils\\lib\\site-packages\\skimage\\io\\_plugins\\matplotlib_plugin.py:150: UserWarning: Low image data range; displaying image with stretched contrast.\n",
      "  lo, hi, cmap = _get_display_range(image)\n"
     ]
    },
    {
     "data": {
      "text/plain": [
       "<matplotlib.image.AxesImage at 0x24b297d9f10>"
      ]
     },
     "execution_count": 3,
     "metadata": {},
     "output_type": "execute_result"
    },
    {
     "data": {
      "image/png": "[encoded data removed]",
      "text/plain": [
       "<Figure size 432x288 with 2 Axes>"
      ]
     },
     "metadata": {
      "needs_background": "light"
     },
     "output_type": "display_data"
    }
   ],
   "source": [
    "labels_a = np.random.randint(0, 10, (10, 10))\n",
    "imshow(labels_a, cmap=labels_colormap())"
   ]
  },
  {
   "cell_type": "code",
   "execution_count": 4,
   "id": "8d82af7a",
   "metadata": {},
   "outputs": [
    {
     "data": {
      "text/plain": [
       "<matplotlib.image.AxesImage at 0x24b2994db80>"
      ]
     },
     "execution_count": 4,
     "metadata": {},
     "output_type": "execute_result"
    },
    {
     "data": {
      "image/png": "[encoded data removed]",
      "text/plain": [
       "<Figure size 432x288 with 2 Axes>"
      ]
     },
     "metadata": {
      "needs_background": "light"
     },
     "output_type": "display_data"
    }
   ],
   "source": [
    "labels_b = np.random.randint(0, 10, (10, 10))\n",
    "imshow(labels_b, cmap=labels_colormap())"
   ]
  },
  {
   "cell_type": "code",
   "execution_count": 5,
   "id": "a148f2f9",
   "metadata": {},
   "outputs": [
    {
     "data": {
      "text/plain": [
       "array([[0, 2, 3, 0, 0, 0, 0, 0, 1, 1],\n",
       "       [0, 2, 2, 2, 0, 1, 0, 1, 1, 0],\n",
       "       [2, 2, 0, 0, 0, 2, 2, 0, 2, 0],\n",
       "       [2, 1, 2, 3, 2, 4, 1, 0, 0, 1],\n",
       "       [1, 0, 1, 0, 2, 0, 2, 0, 1, 1],\n",
       "       [1, 2, 3, 2, 0, 1, 0, 2, 0, 0],\n",
       "       [0, 0, 1, 1, 0, 1, 1, 1, 2, 0],\n",
       "       [0, 2, 4, 0, 0, 1, 2, 0, 1, 2],\n",
       "       [3, 0, 2, 4, 0, 0, 1, 1, 0, 0],\n",
       "       [1, 3, 1, 1, 0, 0, 1, 1, 0, 1]], dtype=int64)"
      ]
     },
     "execution_count": 5,
     "metadata": {},
     "output_type": "execute_result"
    }
   ],
   "source": [
    "sklearn_confusion_matrix = confusion_matrix(labels_a.ravel(), labels_b.ravel())\n",
    "sklearn_confusion_matrix"
   ]
  },
  {
   "cell_type": "code",
   "execution_count": 6,
   "id": "e954001a",
   "metadata": {},
   "outputs": [
    {
     "data": {
      "text/plain": [
       "array([[0, 2, 3, 0, 0, 0, 0, 0, 1, 1],\n",
       "       [0, 2, 2, 2, 0, 1, 0, 1, 1, 0],\n",
       "       [2, 2, 0, 0, 0, 2, 2, 0, 2, 0],\n",
       "       [2, 1, 2, 3, 2, 4, 1, 0, 0, 1],\n",
       "       [1, 0, 1, 0, 2, 0, 2, 0, 1, 1],\n",
       "       [1, 2, 3, 2, 0, 1, 0, 2, 0, 0],\n",
       "       [0, 0, 1, 1, 0, 1, 1, 1, 2, 0],\n",
       "       [0, 2, 4, 0, 0, 1, 2, 0, 1, 2],\n",
       "       [3, 0, 2, 4, 0, 0, 1, 1, 0, 0],\n",
       "       [1, 3, 1, 1, 0, 0, 1, 1, 0, 1]], dtype=int64)"
      ]
     },
     "execution_count": 6,
     "metadata": {},
     "output_type": "execute_result"
    }
   ],
   "source": [
    "biapol_confusion_matrix = label_overlap_matrix(labels_a, labels_b)\n",
    "biapol_confusion_matrix"
   ]
  },
  {
   "cell_type": "code",
   "execution_count": 7,
   "id": "e5b28c6d",
   "metadata": {},
   "outputs": [
    {
     "data": {
      "text/plain": [
       "True"
      ]
     },
     "execution_count": 7,
     "metadata": {},
     "output_type": "execute_result"
    }
   ],
   "source": [
    "# Are they equal?\n",
    "np.array_equal(sklearn_confusion_matrix, biapol_confusion_matrix)"
   ]
  },
  {
   "cell_type": "code",
   "execution_count": 8,
   "id": "4ac747df",
   "metadata": {},
   "outputs": [],
   "source": [
    "# for time measurements, we make the same input to both\n",
    "labels_a = labels_a.ravel()\n",
    "labels_b = labels_b.ravel()"
   ]
  },
  {
   "cell_type": "code",
   "execution_count": 9,
   "id": "7934aab5",
   "metadata": {},
   "outputs": [
    {
     "name": "stdout",
     "output_type": "stream",
     "text": [
      "223 µs ± 7.9 µs per loop (mean ± std. dev. of 7 runs, 1000 loops each)\n"
     ]
    }
   ],
   "source": [
    "%timeit confusion_matrix(labels_a, labels_b)"
   ]
  },
  {
   "cell_type": "code",
   "execution_count": 10,
   "id": "64ca2cba",
   "metadata": {},
   "outputs": [
    {
     "name": "stdout",
     "output_type": "stream",
     "text": [
      "223 µs ± 6.87 µs per loop (mean ± std. dev. of 7 runs, 1000 loops each)\n"
     ]
    }
   ],
   "source": [
    "%timeit label_overlap_matrix(labels_a, labels_b)"
   ]
  },
  {
   "cell_type": "code",
   "execution_count": 11,
   "id": "6d3943ba",
   "metadata": {},
   "outputs": [],
   "source": [
    "# now let's try with larger label images: 4 MB\n",
    "labels_a = np.random.randint(0, 10, (1024, 1024, 2)).ravel()\n",
    "labels_b = np.random.randint(0, 10, (1024, 1024, 2)).ravel()"
   ]
  },
  {
   "cell_type": "code",
   "execution_count": 12,
   "id": "e0960370",
   "metadata": {},
   "outputs": [
    {
     "name": "stdout",
     "output_type": "stream",
     "text": [
      "319 ms ± 6.89 ms per loop (mean ± std. dev. of 7 runs, 1 loop each)\n"
     ]
    }
   ],
   "source": [
    "%timeit confusion_matrix(labels_a, labels_b)"
   ]
  },
  {
   "cell_type": "code",
   "execution_count": 13,
   "id": "dc49e24e",
   "metadata": {},
   "outputs": [
    {
     "name": "stdout",
     "output_type": "stream",
     "text": [
      "317 ms ± 4.94 ms per loop (mean ± std. dev. of 7 runs, 1 loop each)\n"
     ]
    }
   ],
   "source": [
    "%timeit label_overlap_matrix(labels_a, labels_b)"
   ]
  },
  {
   "cell_type": "code",
   "execution_count": 14,
   "id": "7d514f30",
   "metadata": {},
   "outputs": [],
   "source": [
    "# now let's try with even larger label images: 40 MB\n",
    "labels_a = np.random.randint(0, 10, (1024, 1024, 20)).ravel()\n",
    "labels_b = np.random.randint(0, 10, (1024, 1024, 20)).ravel()"
   ]
  },
  {
   "cell_type": "code",
   "execution_count": 15,
   "id": "5e10d43c",
   "metadata": {},
   "outputs": [
    {
     "name": "stdout",
     "output_type": "stream",
     "text": [
      "3.48 s ± 52.8 ms per loop (mean ± std. dev. of 7 runs, 1 loop each)\n"
     ]
    }
   ],
   "source": [
    "%timeit confusion_matrix(labels_a, labels_b)"
   ]
  },
  {
   "cell_type": "code",
   "execution_count": 16,
   "id": "75cf65c7",
   "metadata": {},
   "outputs": [
    {
     "name": "stdout",
     "output_type": "stream",
     "text": [
      "3.6 s ± 112 ms per loop (mean ± std. dev. of 7 runs, 1 loop each)\n"
     ]
    }
   ],
   "source": [
    "%timeit label_overlap_matrix(labels_a, labels_b)"
   ]
  },
  {
   "cell_type": "code",
   "execution_count": null,
   "id": "56eb57f0",
   "metadata": {},
   "outputs": [],
   "source": []
  }
 ],
 "metadata": {
  "kernelspec": {
   "display_name": "Python 3 (ipykernel)",
   "language": "python",
   "name": "python3"
  },
  "language_info": {
   "codemirror_mode": {
    "name": "ipython",
    "version": 3
   },
   "file_extension": ".py",
   "mimetype": "text/x-python",
   "name": "python",
   "nbconvert_exporter": "python",
   "pygments_lexer": "ipython3",
   "version": "3.9.7"
  }
 },
 "nbformat": 4,
 "nbformat_minor": 5
}
