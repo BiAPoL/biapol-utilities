{
 "cells": [
  {
   "cell_type": "markdown",
   "id": "f0e873ed",
   "metadata": {},
   "source": [
    "## Matching labels\n",
    "This script will compare two labelled images and convert the assigned labels in one image to resemble the labels in the first image."
   ]
  },
  {
   "cell_type": "code",
   "execution_count": 1,
   "id": "543ed2f3",
   "metadata": {},
   "outputs": [
    {
     "ename": "ModuleNotFoundError",
     "evalue": "No module named 'biapolutils'",
     "output_type": "error",
     "traceback": [
      "\u001b[1;31m---------------------------------------------------------------------------\u001b[0m",
      "\u001b[1;31mModuleNotFoundError\u001b[0m                       Traceback (most recent call last)",
      "\u001b[1;32m~\\AppData\\Local\\Temp/ipykernel_7032/1042467330.py\u001b[0m in \u001b[0;36m<module>\u001b[1;34m\u001b[0m\n\u001b[0;32m      1\u001b[0m \u001b[1;32mimport\u001b[0m \u001b[0mos\u001b[0m\u001b[1;33m\u001b[0m\u001b[1;33m\u001b[0m\u001b[0m\n\u001b[1;32m----> 2\u001b[1;33m \u001b[1;32mimport\u001b[0m \u001b[0mbiapolutils\u001b[0m\u001b[1;33m\u001b[0m\u001b[1;33m\u001b[0m\u001b[0m\n\u001b[0m\u001b[0;32m      3\u001b[0m \u001b[1;32mfrom\u001b[0m \u001b[0mskimage\u001b[0m \u001b[1;32mimport\u001b[0m \u001b[0mio\u001b[0m\u001b[1;33m\u001b[0m\u001b[1;33m\u001b[0m\u001b[0m\n\u001b[0;32m      4\u001b[0m \u001b[1;32mimport\u001b[0m \u001b[0mnumpy\u001b[0m \u001b[1;32mas\u001b[0m \u001b[0mnp\u001b[0m\u001b[1;33m\u001b[0m\u001b[1;33m\u001b[0m\u001b[0m\n\u001b[0;32m      5\u001b[0m \u001b[1;32mimport\u001b[0m \u001b[0mmatplotlib\u001b[0m\u001b[1;33m.\u001b[0m\u001b[0mpyplot\u001b[0m \u001b[1;32mas\u001b[0m \u001b[0mplt\u001b[0m\u001b[1;33m\u001b[0m\u001b[1;33m\u001b[0m\u001b[0m\n",
      "\u001b[1;31mModuleNotFoundError\u001b[0m: No module named 'biapolutils'"
     ]
    }
   ],
   "source": [
    "import os\n",
    "import biapolutils\n",
    "from skimage import io\n",
    "import numpy as np\n",
    "import matplotlib.pyplot as plt\n",
    "from datetime import datetime"
   ]
  },
  {
   "cell_type": "markdown",
   "id": "c2d790ac",
   "metadata": {},
   "source": [
    "### Load data"
   ]
  },
  {
   "cell_type": "code",
   "execution_count": null,
   "id": "b8d23969",
   "metadata": {},
   "outputs": [],
   "source": [
    "path = r'your path'\n",
    "imageA = io.imread(os.path.join(path, 'ground_truth.tif'))\n",
    "imageB = io.imread(os.path.join(path, 'segmented.tif'))"
   ]
  },
  {
   "cell_type": "markdown",
   "id": "a01576eb",
   "metadata": {},
   "source": [
    "Plot before"
   ]
  },
  {
   "cell_type": "code",
   "execution_count": null,
   "id": "f4ad5fe1",
   "metadata": {},
   "outputs": [],
   "source": [
    "    fig, axes = plt.subplots(ncols=2, sharex=True, sharey=True)\n",
    "    axes[0].imshow(imageA[35])\n",
    "    axes[1].imshow(imageB[35])"
   ]
  },
  {
   "cell_type": "markdown",
   "id": "4cb32165",
   "metadata": {},
   "source": [
    "Match labels and track time"
   ]
  },
  {
   "cell_type": "code",
   "execution_count": null,
   "id": "1ae71b7a",
   "metadata": {},
   "outputs": [],
   "source": [
    "t0 = datetime.now()\n",
    "output = biapolutils.label.match_labels(imageA, imageB)\n",
    "t1 = datetime.now()\n",
    "print(f'Took {(t1-t0).seconds*1000} ms')"
   ]
  },
  {
   "cell_type": "markdown",
   "id": "afaf844d",
   "metadata": {},
   "source": [
    "Visualize"
   ]
  },
  {
   "cell_type": "code",
   "execution_count": null,
   "id": "eb6acea3",
   "metadata": {},
   "outputs": [],
   "source": [
    "fig, axes = plt.subplots(ncols=2, sharex=True, sharey=True)\n",
    "axes[0].imshow(imageA[35])\n",
    "axes[1].imshow(output[35])"
   ]
  },
  {
   "cell_type": "markdown",
   "id": "68db09bf",
   "metadata": {},
   "source": [
    "Save?"
   ]
  },
  {
   "cell_type": "code",
   "execution_count": null,
   "id": "d86fbd14",
   "metadata": {},
   "outputs": [],
   "source": [
    "io.imsave(os.path.join(path, 'matched.tif'), output.astype(np.uint8))"
   ]
  }
 ],
 "metadata": {
  "kernelspec": {
   "display_name": "Python 3 (ipykernel)",
   "language": "python",
   "name": "python3"
  },
  "language_info": {
   "codemirror_mode": {
    "name": "ipython",
    "version": 3
   },
   "file_extension": ".py",
   "mimetype": "text/x-python",
   "name": "python",
   "nbconvert_exporter": "python",
   "pygments_lexer": "ipython3",
   "version": "3.9.7"
  }
 },
 "nbformat": 4,
 "nbformat_minor": 5
}
